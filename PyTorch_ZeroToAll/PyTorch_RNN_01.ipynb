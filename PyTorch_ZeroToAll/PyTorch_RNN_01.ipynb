{
 "cells": [
  {
   "cell_type": "code",
   "execution_count": 1,
   "metadata": {},
   "outputs": [],
   "source": [
    "import sys\n",
    "import torch\n",
    "import torch.nn as nn\n",
    "from torch.autograd import Variable"
   ]
  },
  {
   "cell_type": "code",
   "execution_count": 2,
   "metadata": {},
   "outputs": [],
   "source": [
    "# Teach hihell -> ihello\n",
    "idx2char = ['h', 'i', 'e','l', 'o']\n",
    "\n",
    "x_data = [0, 1, 0, 2, 3, 3] # input hihell\n",
    "\n",
    "one_hot_lookup = [[1, 0, 0, 0, 0],  # 0 == h\n",
    "                  [0, 1, 0, 0, 0],  # 1 == i\n",
    "                  [0, 0, 1, 0, 0],  # 2 == e\n",
    "                  [0, 0, 0, 1, 0],  # 3 == l\n",
    "                  [0, 0, 0, 0, 1]]  # 4 == o\n",
    "\n",
    "x_one_hot = [one_hot_lookup[x] for x in x_data]\n",
    "\n",
    "y_data = [1, 0, 2, 3, 3, 4] # output ihello\n",
    "# y_one_hot = [one_hot_lookup[y] for y in y_data]\n",
    "\n",
    "# preparing inputs to be used in RNN\n",
    "inputs = Variable(torch.Tensor(x_one_hot))\n",
    "labels = Variable(torch.Tensor(y_data))\n"
   ]
  },
  {
   "cell_type": "code",
   "execution_count": 3,
   "metadata": {},
   "outputs": [
    {
     "data": {
      "text/plain": [
       "torch.Size([6])"
      ]
     },
     "execution_count": 3,
     "metadata": {},
     "output_type": "execute_result"
    }
   ],
   "source": [
    "labels.size()"
   ]
  },
  {
   "cell_type": "code",
   "execution_count": 4,
   "metadata": {},
   "outputs": [],
   "source": [
    "num_classes = 5\n",
    "input_size = 5  # one-hot size\n",
    "hidden_size = 5  # output from the RNN. 5 to directly predict one-hot\n",
    "batch_size = 1   # one sentence\n",
    "sequence_length = 1  # One by one\n",
    "num_layers = 1  # one-layer rnn"
   ]
  },
  {
   "cell_type": "code",
   "execution_count": 28,
   "metadata": {},
   "outputs": [],
   "source": [
    "# defining the model\n",
    "\n",
    "class RNN(nn.Module):\n",
    "    \n",
    "    def __init__(self):\n",
    "        super(RNN, self).__init__()\n",
    "        self.rnn = nn.RNN(input_size=input_size,\n",
    "                          hidden_size=hidden_size, batch_first=True)\n",
    "\n",
    "    def forward(self, hidden, x):\n",
    "        # Reshape input (batch first)\n",
    "        x = x.view(batch_size, sequence_length, input_size)\n",
    "\n",
    "        # Propagate input through RNN\n",
    "        # Input: (batch, seq_len, input_size)\n",
    "        # hidden: (num_layers * num_directions, batch, hidden_size)\n",
    "        out, hidden = self.rnn(x, hidden)\n",
    "        return hidden, out.view(-1, num_classes)\n",
    "\n",
    "    def init_hidden(self):\n",
    "        # Initialize hidden and cell states\n",
    "        # (num_layers * num_directions, batch, hidden_size)\n",
    "        return Variable(torch.zeros(num_layers, batch_size, hidden_size))\n",
    "    \n",
    "#instantiation\n",
    "rnn = RNN()\n",
    "        \n",
    "        \n"
   ]
  },
  {
   "cell_type": "code",
   "execution_count": 29,
   "metadata": {},
   "outputs": [],
   "source": [
    "# Set loss and optimizer function\n",
    "# CrossEntropyLoss = LogSoftmax + NLLLoss\n",
    "criterion = nn.CrossEntropyLoss()\n",
    "optimizer = torch.optim.Adam(rnn.parameters(), lr=0.4)"
   ]
  },
  {
   "cell_type": "code",
   "execution_count": 30,
   "metadata": {},
   "outputs": [
    {
     "name": "stdout",
     "output_type": "stream",
     "text": [
      "predicted string: hllell, epoch: 1, loss: 9.966\n",
      "predicted string: hhhhll, epoch: 2, loss: 8.546\n",
      "predicted string: eeeloo, epoch: 3, loss: 7.192\n",
      "predicted string: eeeloo, epoch: 4, loss: 6.208\n",
      "predicted string: ieeioh, epoch: 5, loss: 8.055\n",
      "predicted string: eeeloo, epoch: 6, loss: 5.550\n",
      "predicted string: eeeloo, epoch: 7, loss: 5.812\n",
      "predicted string: eeeloo, epoch: 8, loss: 6.468\n",
      "predicted string: eeello, epoch: 9, loss: 6.563\n",
      "predicted string: eeello, epoch: 10, loss: 6.532\n",
      "predicted string: eeello, epoch: 11, loss: 6.302\n",
      "predicted string: ehello, epoch: 12, loss: 5.971\n",
      "predicted string: ehello, epoch: 13, loss: 5.693\n",
      "predicted string: ehello, epoch: 14, loss: 5.422\n",
      "predicted string: ehello, epoch: 15, loss: 5.309\n",
      "predicted string: ehello, epoch: 16, loss: 5.204\n",
      "predicted string: ehello, epoch: 17, loss: 5.023\n",
      "predicted string: ehello, epoch: 18, loss: 4.887\n",
      "predicted string: ihello, epoch: 19, loss: 4.823\n",
      "predicted string: ihello, epoch: 20, loss: 4.797\n",
      "predicted string: ihello, epoch: 21, loss: 4.773\n",
      "predicted string: ihello, epoch: 22, loss: 4.737\n",
      "predicted string: ihello, epoch: 23, loss: 4.688\n",
      "predicted string: ihello, epoch: 24, loss: 4.622\n",
      "predicted string: ihello, epoch: 25, loss: 4.535\n",
      "predicted string: ihello, epoch: 26, loss: 4.426\n",
      "predicted string: ihello, epoch: 27, loss: 4.294\n",
      "predicted string: ihello, epoch: 28, loss: 4.139\n",
      "predicted string: ihello, epoch: 29, loss: 3.970\n",
      "predicted string: ihello, epoch: 30, loss: 3.778\n",
      "predicted string: ihello, epoch: 31, loss: 3.585\n",
      "predicted string: ihello, epoch: 32, loss: 3.938\n",
      "predicted string: ihello, epoch: 33, loss: 3.606\n",
      "predicted string: ihello, epoch: 34, loss: 3.534\n",
      "predicted string: ihello, epoch: 35, loss: 3.605\n",
      "predicted string: ihello, epoch: 36, loss: 3.563\n",
      "predicted string: ihello, epoch: 37, loss: 3.455\n",
      "predicted string: ihello, epoch: 38, loss: 3.322\n",
      "predicted string: ihello, epoch: 39, loss: 3.362\n",
      "predicted string: ihello, epoch: 40, loss: 3.269\n",
      "predicted string: ihello, epoch: 41, loss: 3.284\n",
      "predicted string: ihello, epoch: 42, loss: 3.289\n",
      "predicted string: ihello, epoch: 43, loss: 3.255\n",
      "predicted string: ihello, epoch: 44, loss: 3.256\n",
      "predicted string: ihello, epoch: 45, loss: 3.245\n",
      "predicted string: ihello, epoch: 46, loss: 3.241\n",
      "predicted string: ihello, epoch: 47, loss: 3.248\n",
      "predicted string: ihello, epoch: 48, loss: 3.234\n",
      "predicted string: ihello, epoch: 49, loss: 3.238\n",
      "predicted string: ihello, epoch: 50, loss: 3.234\n",
      "predicted string: ihello, epoch: 51, loss: 3.232\n",
      "predicted string: ihello, epoch: 52, loss: 3.235\n",
      "predicted string: ihello, epoch: 53, loss: 3.224\n",
      "predicted string: ihello, epoch: 54, loss: 3.227\n",
      "predicted string: ihe"
     ]
    },
    {
     "name": "stderr",
     "output_type": "stream",
     "text": [
      "c:\\users\\shanu\\anaconda3\\envs\\dl-udacity-pytorch\\lib\\site-packages\\ipykernel_launcher.py:15: UserWarning: invalid index of a 0-dim tensor. This will be an error in PyTorch 0.5. Use tensor.item() to convert a 0-dim tensor to a Python number\n",
      "  from ipykernel import kernelapp as app\n"
     ]
    },
    {
     "name": "stdout",
     "output_type": "stream",
     "text": [
      "llo, epoch: 55, loss: 3.218\n",
      "predicted string: ihello, epoch: 56, loss: 3.218\n",
      "predicted string: ihello, epoch: 57, loss: 3.217\n",
      "predicted string: ihello, epoch: 58, loss: 3.211\n",
      "predicted string: ihello, epoch: 59, loss: 3.215\n",
      "predicted string: ihello, epoch: 60, loss: 3.208\n",
      "predicted string: ihello, epoch: 61, loss: 3.209\n",
      "predicted string: ihello, epoch: 62, loss: 3.205\n",
      "predicted string: ihello, epoch: 63, loss: 3.203\n",
      "predicted string: ihello, epoch: 64, loss: 3.202\n",
      "predicted string: ihello, epoch: 65, loss: 3.199\n",
      "predicted string: ihello, epoch: 66, loss: 3.198\n",
      "predicted string: ihello, epoch: 67, loss: 3.195\n",
      "predicted string: ihello, epoch: 68, loss: 3.196\n",
      "predicted string: ihello, epoch: 69, loss: 3.192\n",
      "predicted string: ihello, epoch: 70, loss: 3.193\n",
      "predicted string: ihello, epoch: 71, loss: 3.190\n",
      "predicted string: ihello, epoch: 72, loss: 3.189\n",
      "predicted string: ihello, epoch: 73, loss: 3.188\n",
      "predicted string: ihello, epoch: 74, loss: 3.187\n",
      "predicted string: ihello, epoch: 75, loss: 3.186\n",
      "predicted string: ihello, epoch: 76, loss: 3.184\n",
      "predicted string: ihello, epoch: 77, loss: 3.184\n",
      "predicted string: ihello, epoch: 78, loss: 3.182\n",
      "predicted string: ihello, epoch: 79, loss: 3.182\n",
      "predicted string: ihello, epoch: 80, loss: 3.180\n",
      "predicted string: ihello, epoch: 81, loss: 3.180\n",
      "predicted string: ihello, epoch: 82, loss: 3.178\n",
      "predicted string: ihello, epoch: 83, loss: 3.178\n",
      "predicted string: ihello, epoch: 84, loss: 3.176\n",
      "predicted string: ihello, epoch: 85, loss: 3.176\n",
      "predicted string: ihello, epoch: 86, loss: 3.175\n",
      "predicted string: ihello, epoch: 87, loss: 3.174\n",
      "predicted string: ihello, epoch: 88, loss: 3.173\n",
      "predicted string: ihello, epoch: 89, loss: 3.173\n",
      "predicted string: ihello, epoch: 90, loss: 3.172\n",
      "predicted string: ihello, epoch: 91, loss: 3.172\n",
      "predicted string: ihello, epoch: 92, loss: 3.171\n",
      "predicted string: ihello, epoch: 93, loss: 3.170\n",
      "predicted string: ihello, epoch: 94, loss: 3.169\n",
      "predicted string: ihello, epoch: 95, loss: 3.169\n",
      "predicted string: ihello, epoch: 96, loss: 3.168\n",
      "predicted string: ihello, epoch: 97, loss: 3.168\n",
      "predicted string: ihello, epoch: 98, loss: 3.167\n",
      "predicted string: ihello, epoch: 99, loss: 3.166\n",
      "predicted string: ihello, epoch: 100, loss: 3.166\n"
     ]
    }
   ],
   "source": [
    "# training\n",
    "\n",
    "for epoch in range(100):\n",
    "    optimizer.zero_grad()\n",
    "    loss = 0\n",
    "    hidden = rnn.init_hidden()\n",
    "\n",
    "    sys.stdout.write(\"predicted string: \")\n",
    "    for input, label in zip(inputs, labels):\n",
    "        hidden, output = rnn(hidden, input)\n",
    "        val, idx = output.max(1)\n",
    "        sys.stdout.write(idx2char[idx.data[0]])\n",
    "        loss += criterion(output, label.unsqueeze(0).long())\n",
    "\n",
    "    print(\", epoch: %d, loss: %1.3f\" % (epoch + 1, loss.data[0]))\n",
    "\n",
    "    loss.backward()\n",
    "    optimizer.step()\n",
    "\n",
    "\n",
    "    "
   ]
  },
  {
   "cell_type": "code",
   "execution_count": null,
   "metadata": {},
   "outputs": [],
   "source": []
  }
 ],
 "metadata": {
  "kernelspec": {
   "display_name": "Python 3",
   "language": "python",
   "name": "python3"
  },
  "language_info": {
   "codemirror_mode": {
    "name": "ipython",
    "version": 3
   },
   "file_extension": ".py",
   "mimetype": "text/x-python",
   "name": "python",
   "nbconvert_exporter": "python",
   "pygments_lexer": "ipython3",
   "version": "3.6.7"
  }
 },
 "nbformat": 4,
 "nbformat_minor": 2
}
