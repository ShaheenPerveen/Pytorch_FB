{
 "cells": [
  {
   "cell_type": "code",
   "execution_count": 1,
   "metadata": {},
   "outputs": [],
   "source": [
    "# import matplotlib.patches as patch\n",
    "# import matplotlib.pyplot as plt\n",
    "from scipy.stats import norm\n",
    "from scipy import linalg\n",
    "from numpy import poly1d\n",
    "# from sklearn import svm\n",
    "# import tensorflow as tf\n",
    "import pandas as pd\n",
    "import numpy as np\n",
    "import glob\n",
    "import sys\n",
    "import os"
   ]
  },
  {
   "cell_type": "code",
   "execution_count": 3,
   "metadata": {},
   "outputs": [],
   "source": [
    "%matplotlib inline\n",
    "%precision 4\n",
    "plt.style.use('ggplot')\n",
    "np.set_printoptions(suppress=True)"
   ]
  },
  {
   "cell_type": "code",
   "execution_count": 2,
   "metadata": {},
   "outputs": [],
   "source": [
    "# Declaring Vectors\n",
    "\n",
    "x = [1, 2, 3]\n",
    "y = [4, 5, 6]"
   ]
  },
  {
   "cell_type": "code",
   "execution_count": 6,
   "metadata": {},
   "outputs": [
    {
     "name": "stdout",
     "output_type": "stream",
     "text": [
      "element wise addition of two vectors\n",
      "[5 7 9]\n",
      "cross product of two vectors\n",
      "[-3  6 -3]\n",
      "dot product of two vectors\n",
      "32\n"
     ]
    }
   ],
   "source": [
    "# print(type(x))\n",
    "\n",
    "print(\"element wise addition of two vectors\")\n",
    "print(np.add(x,y))\n",
    "\n",
    "print(\"cross product of two vectors\")\n",
    "print(np.cross(x,y))\n",
    "\n",
    "print(\"dot product of two vectors\")\n",
    "print(np.dot(x,y))"
   ]
  },
  {
   "cell_type": "code",
   "execution_count": 3,
   "metadata": {},
   "outputs": [],
   "source": [
    "# initializing matrices \n",
    "x = np.array([[1, 2], [4, 5]]) \n",
    "y = np.array([[7, 8], [9, 10]])"
   ]
  },
  {
   "cell_type": "code",
   "execution_count": 4,
   "metadata": {},
   "outputs": [
    {
     "name": "stdout",
     "output_type": "stream",
     "text": [
      "sum of two matrices\n",
      "[[ 8 10]\n",
      " [13 15]]\n",
      "difference of two matrices\n",
      "[[-6 -6]\n",
      " [-5 -5]]\n",
      "product of two matrices using np.matmul\n",
      "[[25 28]\n",
      " [73 82]]\n",
      "product of two matrices using dot\n",
      "[[25 28]\n",
      " [73 82]]\n",
      "ratio of two matrices\n",
      "[[0.14285714 0.25      ]\n",
      " [0.44444444 0.5       ]]\n"
     ]
    }
   ],
   "source": [
    "print(\"sum of two matrices\")\n",
    "print(np.add(x,y))\n",
    "\n",
    "print(\"difference of two matrices\")\n",
    "print(np.subtract(x,y))\n",
    "\n",
    "print(\"product of two matrices using np.matmul\")\n",
    "print(np.matmul(x,y))\n",
    "\n",
    "print(\"product of two matrices using dot\")\n",
    "print(x.dot(y))\n",
    "\n",
    "print(\"ratio of two matrices\")\n",
    "print(np.divide(x,y))"
   ]
  },
  {
   "cell_type": "code",
   "execution_count": 9,
   "metadata": {},
   "outputs": [
    {
     "name": "stdout",
     "output_type": "stream",
     "text": [
      "outer product of two matrices\n",
      "[[ 4  5  6]\n",
      " [ 8 10 12]\n",
      " [12 15 18]]\n"
     ]
    }
   ],
   "source": [
    "# Declaring matrices to test outer\n",
    "\n",
    "x = [[1, 2, 3]]\n",
    "y = [[4, 5, 6]]\n",
    "\n",
    "print(\"outer product of two matrices\")\n",
    "print(np.outer(x,y))"
   ]
  },
  {
   "cell_type": "code",
   "execution_count": 10,
   "metadata": {},
   "outputs": [
    {
     "data": {
      "text/plain": [
       "array([[1., 0., 0., 0.],\n",
       "       [0., 1., 0., 0.],\n",
       "       [0., 0., 1., 0.],\n",
       "       [0., 0., 0., 1.]])"
      ]
     },
     "execution_count": 10,
     "metadata": {},
     "output_type": "execute_result"
    }
   ],
   "source": [
    "# Identity matrices\n",
    "I = np.identity(4)\n",
    "I"
   ]
  },
  {
   "cell_type": "code",
   "execution_count": 14,
   "metadata": {},
   "outputs": [
    {
     "name": "stdout",
     "output_type": "stream",
     "text": [
      "[[ 0.3404 -0.234   0.0213]\n",
      " [-0.234  -0.2766  0.2979]\n",
      " [-0.0426  0.4043 -0.1277]]\n"
     ]
    }
   ],
   "source": [
    "# Inverses\n",
    "matrix = np.matrix([[4, 1, 3], [2, 2, 5], [5, 6, 7]])\n",
    "inverse = np.linalg.inv(matrix)\n",
    "print(inverse)"
   ]
  },
  {
   "cell_type": "code",
   "execution_count": 17,
   "metadata": {},
   "outputs": [
    {
     "name": "stdout",
     "output_type": "stream",
     "text": [
      "[4 2 7]\n",
      "[3]\n",
      "[1 5]\n",
      "[2 6]\n",
      "[5]\n"
     ]
    }
   ],
   "source": [
    "# Diagnols\n",
    "print(np.diag(matrix))\n",
    "print(np.diag(matrix, k=2))\n",
    "print(np.diag(matrix, k=1))\n",
    "print(np.diag(matrix, k=-1))\n",
    "print(np.diag(matrix, k=-2))"
   ]
  },
  {
   "cell_type": "code",
   "execution_count": 18,
   "metadata": {},
   "outputs": [
    {
     "name": "stdout",
     "output_type": "stream",
     "text": [
      "13\n",
      "-46.99999999999999\n"
     ]
    }
   ],
   "source": [
    "# trace and determinant\n",
    "print(np.trace(matrix))\n",
    "det = np.linalg.det(matrix)\n",
    "print(det)"
   ]
  },
  {
   "cell_type": "code",
   "execution_count": 25,
   "metadata": {},
   "outputs": [
    {
     "name": "stdout",
     "output_type": "stream",
     "text": [
      "L1 norm of x 6.0\n",
      "L2 norm of x 3.7416573867739413\n",
      "Linf norm of x 3.0\n"
     ]
    }
   ],
   "source": [
    "# norms\n",
    "x = np.array([1,2,3])\n",
    "\n",
    "print(\"L1 norm of x\", np.linalg.norm(x, ord=1))\n",
    "print(\"L2 norm of x\", np.linalg.norm(x, ord=2))\n",
    "print(\"Linf norm of x\", np.linalg.norm(x, ord=np.inf))"
   ]
  },
  {
   "cell_type": "code",
   "execution_count": 29,
   "metadata": {},
   "outputs": [
    {
     "name": "stdout",
     "output_type": "stream",
     "text": [
      "Rank of matrix A 2\n"
     ]
    }
   ],
   "source": [
    "# Rank of a matrix\n",
    "A = np.array([[1,2,3],[2,4,6],[1,4,5]])\n",
    "print(\"Rank of matrix A\", np.linalg.matrix_rank(A))"
   ]
  },
  {
   "cell_type": "code",
   "execution_count": 30,
   "metadata": {},
   "outputs": [
    {
     "name": "stdout",
     "output_type": "stream",
     "text": [
      "the matrix A is [[100 101 102 103]\n",
      " [104 105 106 107]\n",
      " [108 109 110 111]\n",
      " [112 113 114 115]]\n",
      "The determinant of A is -2.958228394578808e-31\n",
      "The inverse of A is [[ 1.0723e+14 -1.3404e+14 -5.3614e+13  8.0421e+13]\n",
      " [-1.6813e+17  3.3627e+17 -1.6813e+17  1.2286e+01]\n",
      " [ 3.3595e+17 -6.7214e+17  3.3643e+17 -2.4126e+14]\n",
      " [-1.6792e+17  3.3600e+17 -1.6824e+17  1.6084e+14]]\n"
     ]
    }
   ],
   "source": [
    "# Inverse of a matrix\n",
    "A = np.arange(100,116).reshape(4,4)\n",
    "print('the matrix A is', A)\n",
    "\n",
    "print(\"The determinant of A is\", np.linalg.det(A))\n",
    "\n",
    "print(\"The inverse of A is\", np.linalg.inv(A))"
   ]
  },
  {
   "cell_type": "code",
   "execution_count": 39,
   "metadata": {},
   "outputs": [
    {
     "name": "stdout",
     "output_type": "stream",
     "text": [
      "  Team League  Year   RS   RA   W    OBP    SLG     BA  Playoffs  RankSeason  \\\n",
      "0  ARI     NL  2012  734  688  81  0.328  0.418  0.259         0         NaN   \n",
      "1  ATL     NL  2012  700  600  94  0.320  0.389  0.247         1         4.0   \n",
      "2  BAL     AL  2012  712  705  93  0.311  0.417  0.247         1         5.0   \n",
      "3  BOS     AL  2012  734  806  69  0.315  0.415  0.260         0         NaN   \n",
      "4  CHC     NL  2012  613  759  61  0.302  0.378  0.240         0         NaN   \n",
      "\n",
      "   RankPlayoffs    G   OOBP   OSLG  \n",
      "0           NaN  162  0.317  0.415  \n",
      "1           5.0  162  0.306  0.378  \n",
      "2           4.0  162  0.315  0.403  \n",
      "3           NaN  162  0.331  0.428  \n",
      "4           NaN  162  0.335  0.424  \n",
      "              Year           RS           RA            W          OBP  \\\n",
      "count  1232.000000  1232.000000  1232.000000  1232.000000  1232.000000   \n",
      "mean   1988.957792   715.081981   715.081981    80.904221     0.326331   \n",
      "std      14.819625    91.534294    93.079933    11.458139     0.015013   \n",
      "min    1962.000000   463.000000   472.000000    40.000000     0.277000   \n",
      "25%    1976.750000   652.000000   649.750000    73.000000     0.317000   \n",
      "50%    1989.000000   711.000000   709.000000    81.000000     0.326000   \n",
      "75%    2002.000000   775.000000   774.250000    89.000000     0.337000   \n",
      "max    2012.000000  1009.000000  1103.000000   116.000000     0.373000   \n",
      "\n",
      "               SLG           BA     Playoffs  RankSeason  RankPlayoffs  \\\n",
      "count  1232.000000  1232.000000  1232.000000  244.000000    244.000000   \n",
      "mean      0.397342     0.259273     0.198052    3.122951      2.717213   \n",
      "std       0.033267     0.012907     0.398693    1.738349      1.095234   \n",
      "min       0.301000     0.214000     0.000000    1.000000      1.000000   \n",
      "25%       0.375000     0.251000     0.000000    2.000000      2.000000   \n",
      "50%       0.396000     0.260000     0.000000    3.000000      3.000000   \n",
      "75%       0.421000     0.268000     0.000000    4.000000      4.000000   \n",
      "max       0.491000     0.294000     1.000000    8.000000      5.000000   \n",
      "\n",
      "                 G        OOBP        OSLG  \n",
      "count  1232.000000  420.000000  420.000000  \n",
      "mean    161.918831    0.332264    0.419743  \n",
      "std       0.624365    0.015295    0.026510  \n",
      "min     158.000000    0.294000    0.346000  \n",
      "25%     162.000000    0.321000    0.401000  \n",
      "50%     162.000000    0.331000    0.419000  \n",
      "75%     162.000000    0.343000    0.438000  \n",
      "max     165.000000    0.384000    0.499000  \n"
     ]
    }
   ],
   "source": [
    "# Example of using inverse in data science\n",
    "\n",
    "df = pd.read_csv('baseball.csv')\n",
    "print(df.head())\n",
    "print(df.describe())\n",
    "\n",
    "X = df[['RS', 'RA', 'W', 'OBP','SLG','BA']]\n",
    "Y = df['OOBP']\n",
    "\n",
    "X = np.asmatrix(X)\n",
    "print(X)\n",
    "print(Y)\n",
    "\n",
    "XT = np.transpose(X)\n",
    "\n",
    "# X_XT = np.matmul(XT,X)\n",
    "X_XT = XT.dot(X)\n",
    "\n",
    "inv_X_XT = np.linalg.inv(X_XT)\n",
    "\n",
    "# theta = np.matmul((np.matmul(inv_X_XT, XT)),Y)\n",
    "theta = (inv_X_XT.dot(XT)).dot(Y)\n",
    "print(\"theta\", theta)"
   ]
  },
  {
   "cell_type": "code",
   "execution_count": null,
   "metadata": {},
   "outputs": [],
   "source": []
  }
 ],
 "metadata": {
  "kernelspec": {
   "display_name": "Python 3",
   "language": "python",
   "name": "python3"
  },
  "language_info": {
   "codemirror_mode": {
    "name": "ipython",
    "version": 3
   },
   "file_extension": ".py",
   "mimetype": "text/x-python",
   "name": "python",
   "nbconvert_exporter": "python",
   "pygments_lexer": "ipython3",
   "version": "3.6.7"
  }
 },
 "nbformat": 4,
 "nbformat_minor": 2
}
